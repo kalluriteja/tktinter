{
 "cells": [
  {
   "cell_type": "markdown",
   "metadata": {},
   "source": [
    "# The Python \n",
    "---"
   ]
  },
  {
   "cell_type": "markdown",
   "metadata": {},
   "source": [
    "This n."
   ]
  },
  {
   "cell_type": "markdown",
   "metadata": {},
   "source": [
    "# Section 11: Graphical User Interfaces with Tkinter\n",
    "***"
   ]
  },
  {
   "cell_type": "markdown",
   "metadata": {},
   "source": [
    "**Lecture:** [Introduction to Tkinter](https://www.udemy.com/the-python-mega-course/learn/v4/t/lecture/4775338?start=0)\n",
    "---"
   ]
  },
  {
   "cell_type": "markdown",
   "metadata": {},
   "source": [
    "Introduction to what Tkinter can do."
   ]
  },
  {
   "cell_type": "markdown",
   "metadata": {},
   "source": [
    "**Lecture:** [Setting Up a GUI with Tkinter](https://www.udemy.com/the-python-mega-course/learn/v4/t/lecture/4775342?start=0)\n",
    "---"
   ]
  },
  {
   "cell_type": "markdown",
   "metadata": {},
   "source": [
    "Down below is an example of a desktop graphical interface program built with Tkinter. Try to run it on a .py file. GUIs don't work well with Jupyter."
   ]
  },
  {
   "cell_type": "code",
   "execution_count": null,
   "metadata": {
    "collapsed": true
   },
   "outputs": [],
   "source": [
    "from tkinter import *\n",
    "\n",
    "window = Tk()\n",
    "\n",
    "b1 = Button(window, text = \"Execute\")\n",
    "b1.grid(row = 0, column = 0)\n",
    "\n",
    "e1 = Entry(window)\n",
    "e1.grid(row = 0, column = 1)\n",
    "\n",
    "t1 = Text(window, height = 1, width = 20)\n",
    "t1.grid(row = 0, column = 2)\n",
    "\n",
    "window.mainloop()"
   ]
  },
  {
   "cell_type": "markdown",
   "metadata": {},
   "source": [
    "**Note**: The program doesn't have any functionalities yet so pushing the `Execute` button will not do anything."
   ]
  },
  {
   "cell_type": "markdown",
   "metadata": {},
   "source": [
    "**Lecture:** [Connecting GUI Widgets with Callback Functions](https://www.udemy.com/the-python-mega-course/learn/v4/t/lecture/4775344?start=0)\n",
    "---"
   ]
  },
  {
   "cell_type": "markdown",
   "metadata": {},
   "source": [
    "Let's add a function that will be executed when the user presses the `Execute` button. When `Execute` is pressed, the number entered in the text form will be multiplied by 1.6 and be displayed in the area next to it."
   ]
  },
  {
   "cell_type": "code",
   "execution_count": 1,
   "metadata": {
    "collapsed": true
   },
   "outputs": [],
   "source": [
    "from tkinter import *\n",
    "\n",
    "window = Tk()\n",
    "\n",
    "def km_to_miles():\n",
    "    miles = float(e1_value.get()) * 1.6\n",
    "    t1.insert(END, miles)\n",
    "\n",
    "b1 = Button(window, text = \"Execute\", command = km_to_miles)\n",
    "b1.grid(row = 0, column = 0)\n",
    "\n",
    "e1_value = StringVar()\n",
    "e1 = Entry(window, textvariable = e1_value)\n",
    "e1.grid(row = 0, column = 1)\n",
    "\n",
    "t1 = Text(window, height = 1, width = 20)\n",
    "t1.grid(row = 0, column = 2)\n",
    "\n",
    "window.mainloop()"
   ]
  },
  {
   "cell_type": "markdown",
   "metadata": {},
   "source": [
    "**Practice:** [Create a Multi-widget GUI](https://www.udemy.com/the-python-mega-course/learn/v4/t/lecture/5278808?start=0)\n",
    "---"
   ]
  },
  {
   "cell_type": "markdown",
   "metadata": {},
   "source": [
    "Please create a Python program that expects a kilogram input value and converts that value to grams, pounds, and ounces when the user pushes the convert button.\n",
    "\n",
    "The program would look similar to the one in the following picture:\n",
    "    "
   ]
  },
  {
   "cell_type": "markdown",
   "metadata": {},
   "source": [
    "<img src=\"https://pythonhow.com/data/\">"
   ]
  },
  {
   "cell_type": "code",
   "execution_count": null,
   "metadata": {
    "collapsed": true
   },
   "outputs": [],
   "source": [
    "Tips:\n",
    "1 kg = 1000 grams\n",
    "1 kg = 2.20462\n",
    "1 kg = 35.274"
   ]
  },
  {
   "cell_type": "markdown",
   "metadata": {},
   "source": [
    "## **[Solution](https://www.udemy.com/the-python-mega-course/learn/v4/t/lecture/5278814?start=0)**"
   ]
  },
  {
   "cell_type": "code",
   "execution_count": null,
   "metadata": {
    "collapsed": true
   },
   "outputs": [],
   "source": [
    "from tkinter import *\n",
    " \n",
    "window=Tk()\n",
    " \n",
    "def from_kg():\n",
    "    gram = float(e2_value.get()) * 1000\n",
    "    pound = float(e2_value.get()) * 2.20462\n",
    "    ounce = float(e2_value.get()) * 35.274\n",
    "    t1.delete(\"1.0\", END)\n",
    "    t1.insert(END, gram)\n",
    "    t2.delete(\"1.0\", END)\n",
    "    t2.insert(END, pound)\n",
    "    t3.delete(\"1.0\", END)\n",
    "    t3.insert(END, ounce)\n",
    " \n",
    "e1 = Label(window, text=\"Kg\")\n",
    "e1.grid(row=0, column=0)\n",
    " \n",
    "e2_value=StringVar()\n",
    "e2 = Entry(window, textvariable = e2_value)\n",
    "e2.grid(row=0, column=1)\n",
    " \n",
    "b1 = Button(window, text=\"Convert\", command = from_kg)\n",
    "b1.grid(row=0, column=2)\n",
    " \n",
    "t1 = Text(window, height=1, width=20)\n",
    "t1.grid(row=1, column=0)\n",
    " \n",
    "t2 = Text(window, height=1, width=20)\n",
    "t2.grid(row=1, column=1)\n",
    " \n",
    "t3 = Text(window,height=1, width=20)\n",
    "t3.grid(row=1, column=2)\n",
    " \n",
    "window.mainloop()"
   ]
  }
 ],
 "metadata": {
  "kernelspec": {
   "display_name": "Python 3",
   "language": "python",
   "name": "python3"
  },
  "language_info": {
   "codemirror_mode": {
    "name": "ipython",
    "version": 3
   },
   "file_extension": ".py",
   "mimetype": "text/x-python",
   "name": "python",
   "nbconvert_exporter": "python",
   "pygments_lexer": "ipython3",
   "version": "3.6.3"
  }
 },
 "nbformat": 4,
 "nbformat_minor": 2
}
